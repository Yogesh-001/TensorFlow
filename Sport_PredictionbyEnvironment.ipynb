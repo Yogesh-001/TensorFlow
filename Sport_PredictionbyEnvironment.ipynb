{
  "nbformat": 4,
  "nbformat_minor": 0,
  "metadata": {
    "colab": {
      "name": "CNNImagePrediction.ipynb",
      "provenance": [],
      "collapsed_sections": []
    },
    "kernelspec": {
      "name": "python3",
      "display_name": "Python 3"
    },
    "language_info": {
      "name": "python"
    },
    "accelerator": "GPU"
  },
  "cells": [
    {
      "cell_type": "code",
      "source": [
        "import pandas as pd    \n",
        "train_csv = pd.read_csv('/content/drive/MyDrive/dataset/train.csv')\n",
        "test_csv = pd.read_csv('/content/drive/MyDrive/dataset/test.csv')"
      ],
      "metadata": {
        "id": "m7IwJZM5aBGs"
      },
      "execution_count": 1,
      "outputs": []
    },
    {
      "cell_type": "code",
      "source": [
        "train_folder = '/content/drive/MyDrive/dataset/train'\n",
        "test_folder = '/content/drive/MyDrive/dataset/test'"
      ],
      "metadata": {
        "id": "vo6BmxIYdcEa"
      },
      "execution_count": 2,
      "outputs": []
    },
    {
      "cell_type": "code",
      "source": [
        "import tensorflow as tf\n",
        "import tensorflow.keras as keras\n",
        "from tensorflow.keras.preprocessing.image import ImageDataGenerator\n",
        "\n",
        "train_gen = ImageDataGenerator(\n",
        "rotation_range=45,\n",
        "rescale=1./255,\n",
        "horizontal_flip=True,\n",
        "validation_split=0.2\n",
        ")\n",
        "\n",
        "test_gen = ImageDataGenerator(rescale = 1./255)"
      ],
      "metadata": {
        "id": "1CC2SaqZdnqf"
      },
      "execution_count": 3,
      "outputs": []
    },
    {
      "cell_type": "code",
      "source": [
        "train_data=train_gen.flow_from_dataframe(\n",
        "                dataframe=train_csv,\n",
        "                directory=train_folder,\n",
        "                x_col=\"image_ID\",\n",
        "                y_col=\"label\",\n",
        "                subset=\"training\",\n",
        "                batch_size=32,\n",
        "                seed=42,\n",
        "                shuffle=True,\n",
        "                class_mode=\"categorical\",\n",
        "                target_size=(32,32))\n",
        "valid_data=train_gen.flow_from_dataframe(\n",
        "              dataframe=train_csv,\n",
        "              directory=train_folder,\n",
        "              x_col=\"image_ID\",\n",
        "              y_col=\"label\",\n",
        "              subset=\"validation\",\n",
        "              batch_size=32,\n",
        "              seed=42,\n",
        "              shuffle=True,\n",
        "              class_mode=\"categorical\",\n",
        "              target_size=(32,32))"
      ],
      "metadata": {
        "colab": {
          "base_uri": "https://localhost:8080/"
        },
        "id": "bPYtmu5CCkoL",
        "outputId": "79f4421f-1bc8-4b38-b017-7823e75c54d8"
      },
      "execution_count": 4,
      "outputs": [
        {
          "output_type": "stream",
          "name": "stdout",
          "text": [
            "Found 6582 validated image filenames belonging to 7 classes.\n",
            "Found 1645 validated image filenames belonging to 7 classes.\n"
          ]
        }
      ]
    },
    {
      "cell_type": "code",
      "source": [
        "test_data=test_gen.flow_from_dataframe(\n",
        "                dataframe=test_csv,\n",
        "                directory=test_folder,\n",
        "                x_col='image_ID',\n",
        "                y_col=None,\n",
        "                batch_size=32,\n",
        "                seed=42,\n",
        "                shuffle=False,\n",
        "                class_mode=None,\n",
        "                target_size=(32,32))"
      ],
      "metadata": {
        "colab": {
          "base_uri": "https://localhost:8080/"
        },
        "id": "n-8KuMBNWuNg",
        "outputId": "efb8fe7b-66f7-4c5a-944a-90ccf6f13f6f"
      },
      "execution_count": 5,
      "outputs": [
        {
          "output_type": "stream",
          "name": "stdout",
          "text": [
            "Found 2056 validated image filenames.\n"
          ]
        }
      ]
    },
    {
      "cell_type": "code",
      "source": [
        "len(train_data)"
      ],
      "metadata": {
        "colab": {
          "base_uri": "https://localhost:8080/"
        },
        "id": "KVnrXXab1aUK",
        "outputId": "c3a4cc81-480d-4a77-e35f-037b7dee9549"
      },
      "execution_count": 6,
      "outputs": [
        {
          "output_type": "execute_result",
          "data": {
            "text/plain": [
              "206"
            ]
          },
          "metadata": {},
          "execution_count": 6
        }
      ]
    },
    {
      "cell_type": "code",
      "source": [
        "train_data"
      ],
      "metadata": {
        "colab": {
          "base_uri": "https://localhost:8080/"
        },
        "id": "wVtlhlI0yu0N",
        "outputId": "c3bd63b5-f6d0-4b03-9736-440cc9914637"
      },
      "execution_count": 7,
      "outputs": [
        {
          "output_type": "execute_result",
          "data": {
            "text/plain": [
              "<keras.preprocessing.image.DataFrameIterator at 0x7f39e729db50>"
            ]
          },
          "metadata": {},
          "execution_count": 7
        }
      ]
    },
    {
      "cell_type": "code",
      "source": [
        "imgs,lbl=next(iter(train_data))"
      ],
      "metadata": {
        "id": "rt2_MtFFewZy"
      },
      "execution_count": 8,
      "outputs": []
    },
    {
      "cell_type": "code",
      "source": [
        "import matplotlib.pyplot as plt\n",
        "plt.imshow(imgs[30])\n",
        "plt.show()"
      ],
      "metadata": {
        "colab": {
          "base_uri": "https://localhost:8080/",
          "height": 266
        },
        "id": "o92MoeTge2T6",
        "outputId": "44dcba9a-1f85-401c-dbd0-39de7d8015bf"
      },
      "execution_count": 9,
      "outputs": [
        {
          "output_type": "display_data",
          "data": {
            "text/plain": [
              "<Figure size 432x288 with 1 Axes>"
            ],
            "image/png": "[encoded data removed]"
          },
          "metadata": {
            "needs_background": "light"
          }
        }
      ]
    },
    {
      "cell_type": "code",
      "source": [
        "lbl[30]"
      ],
      "metadata": {
        "colab": {
          "base_uri": "https://localhost:8080/"
        },
        "id": "cLzozyj_fWzy",
        "outputId": "9f87efa3-ca9b-4aa5-943a-0c7963ecdb10"
      },
      "execution_count": 10,
      "outputs": [
        {
          "output_type": "execute_result",
          "data": {
            "text/plain": [
              "array([0., 0., 0., 0., 0., 1., 0.], dtype=float32)"
            ]
          },
          "metadata": {},
          "execution_count": 10
        }
      ]
    },
    {
      "cell_type": "code",
      "source": [
        "imgs[30].shape"
      ],
      "metadata": {
        "colab": {
          "base_uri": "https://localhost:8080/"
        },
        "id": "Jz5hfaPmRcd3",
        "outputId": "b858978d-941c-4776-cdfc-a1a47c2014ec"
      },
      "execution_count": 11,
      "outputs": [
        {
          "output_type": "execute_result",
          "data": {
            "text/plain": [
              "(32, 32, 3)"
            ]
          },
          "metadata": {},
          "execution_count": 11
        }
      ]
    },
    {
      "cell_type": "code",
      "source": [
        "for i in train_data.class_indices:\n",
        "  print(i)"
      ],
      "metadata": {
        "colab": {
          "base_uri": "https://localhost:8080/"
        },
        "id": "D3ghzNRVpBdM",
        "outputId": "8cf3af49-3a27-4a51-a2c6-e36eeb6447f9"
      },
      "execution_count": 12,
      "outputs": [
        {
          "output_type": "stream",
          "name": "stdout",
          "text": [
            "Badminton\n",
            "Cricket\n",
            "Karate\n",
            "Soccer\n",
            "Swimming\n",
            "Tennis\n",
            "Wrestling\n"
          ]
        }
      ]
    },
    {
      "cell_type": "code",
      "source": [
        "num_classes=len(train_data.class_indices)"
      ],
      "metadata": {
        "id": "m0ldRJ-HZBb5"
      },
      "execution_count": 13,
      "outputs": []
    },
    {
      "cell_type": "code",
      "source": [
        "from tensorflow.keras import layers\n",
        "from tensorflow.keras.models import Sequential\n",
        "\n",
        "model = Sequential([\n",
        "  layers.Conv2D(16, 3, padding='same', activation='relu',input_shape=(32,32,3)),\n",
        "  layers.MaxPooling2D(),\n",
        "  layers.Conv2D(32, 3, padding='same', activation='relu'),\n",
        "  layers.MaxPooling2D(),\n",
        "  layers.Conv2D(64, 3, padding='same', activation='relu'),\n",
        "  layers.MaxPooling2D(),\n",
        "  layers.Conv2D(64, 3, padding='same', activation='relu'),\n",
        "  layers.MaxPooling2D(),\n",
        "  layers.Conv2D(64, 3, padding='same', activation='relu'),\n",
        "  layers.MaxPooling2D(),\n",
        "  layers.Flatten(),\n",
        "  layers.Dense(num_classes,activation='softmax')\n",
        "])"
      ],
      "metadata": {
        "id": "Kqez1Qo-ZAjz"
      },
      "execution_count": 14,
      "outputs": []
    },
    {
      "cell_type": "code",
      "source": [
        "model.compile(optimizer='adam',\n",
        "              loss=\"categorical_crossentropy\",\n",
        "              metrics=[\"accuracy\"])      "
      ],
      "metadata": {
        "id": "UWe1YU9VpZYH"
      },
      "execution_count": 15,
      "outputs": []
    },
    {
      "cell_type": "code",
      "source": [
        "model.summary()"
      ],
      "metadata": {
        "colab": {
          "base_uri": "https://localhost:8080/"
        },
        "id": "lAODrtz8a2Kf",
        "outputId": "e7447b43-fff2-4ddb-824c-d25e8cf7f56f"
      },
      "execution_count": 16,
      "outputs": [
        {
          "output_type": "stream",
          "name": "stdout",
          "text": [
            "Model: \"sequential\"\n",
            "_________________________________________________________________\n",
            " Layer (type)                Output Shape              Param #   \n",
            "=================================================================\n",
            " conv2d (Conv2D)             (None, 32, 32, 16)        448       \n",
            "                                                                 \n",
            " max_pooling2d (MaxPooling2D  (None, 16, 16, 16)       0         \n",
            " )                                                               \n",
            "                                                                 \n",
            " conv2d_1 (Conv2D)           (None, 16, 16, 32)        4640      \n",
            "                                                                 \n",
            " max_pooling2d_1 (MaxPooling  (None, 8, 8, 32)         0         \n",
            " 2D)                                                             \n",
            "                                                                 \n",
            " conv2d_2 (Conv2D)           (None, 8, 8, 64)          18496     \n",
            "                                                                 \n",
            " max_pooling2d_2 (MaxPooling  (None, 4, 4, 64)         0         \n",
            " 2D)                                                             \n",
            "                                                                 \n",
            " conv2d_3 (Conv2D)           (None, 4, 4, 64)          36928     \n",
            "                                                                 \n",
            " max_pooling2d_3 (MaxPooling  (None, 2, 2, 64)         0         \n",
            " 2D)                                                             \n",
            "                                                                 \n",
            " conv2d_4 (Conv2D)           (None, 2, 2, 64)          36928     \n",
            "                                                                 \n",
            " max_pooling2d_4 (MaxPooling  (None, 1, 1, 64)         0         \n",
            " 2D)                                                             \n",
            "                                                                 \n",
            " flatten (Flatten)           (None, 64)                0         \n",
            "                                                                 \n",
            " dense (Dense)               (None, 7)                 455       \n",
            "                                                                 \n",
            "=================================================================\n",
            "Total params: 97,895\n",
            "Trainable params: 97,895\n",
            "Non-trainable params: 0\n",
            "_________________________________________________________________\n"
          ]
        }
      ]
    },
    {
      "cell_type": "code",
      "source": [
        "model.fit(train_data,\n",
        "          validation_data=valid_data,\n",
        "          epochs=10\n",
        ")"
      ],
      "metadata": {
        "colab": {
          "base_uri": "https://localhost:8080/"
        },
        "id": "z8ssBYy7fsX2",
        "outputId": "c1e13d1d-cf5a-441a-e56b-08e5bb338f96"
      },
      "execution_count": 17,
      "outputs": [
        {
          "output_type": "stream",
          "name": "stdout",
          "text": [
            "Epoch 1/10\n",
            "206/206 [==============================] - 2670s 13s/step - loss: 1.6529 - accuracy: 0.3464 - val_loss: 1.3669 - val_accuracy: 0.4681\n",
            "Epoch 2/10\n",
            "206/206 [==============================] - 65s 314ms/step - loss: 1.2887 - accuracy: 0.5213 - val_loss: 1.2281 - val_accuracy: 0.5465\n",
            "Epoch 3/10\n",
            "206/206 [==============================] - 64s 312ms/step - loss: 1.1472 - accuracy: 0.5782 - val_loss: 1.0501 - val_accuracy: 0.6097\n",
            "Epoch 4/10\n",
            "206/206 [==============================] - 65s 313ms/step - loss: 1.0881 - accuracy: 0.6086 - val_loss: 0.9836 - val_accuracy: 0.6371\n",
            "Epoch 5/10\n",
            "206/206 [==============================] - 65s 314ms/step - loss: 1.0058 - accuracy: 0.6285 - val_loss: 0.9574 - val_accuracy: 0.6438\n",
            "Epoch 6/10\n",
            "206/206 [==============================] - 64s 313ms/step - loss: 0.9876 - accuracy: 0.6466 - val_loss: 0.9843 - val_accuracy: 0.6365\n",
            "Epoch 7/10\n",
            "206/206 [==============================] - 64s 311ms/step - loss: 0.9579 - accuracy: 0.6577 - val_loss: 0.9659 - val_accuracy: 0.6462\n",
            "Epoch 8/10\n",
            "206/206 [==============================] - 64s 312ms/step - loss: 0.9017 - accuracy: 0.6755 - val_loss: 0.9116 - val_accuracy: 0.6620\n",
            "Epoch 9/10\n",
            "206/206 [==============================] - 64s 313ms/step - loss: 0.8641 - accuracy: 0.6855 - val_loss: 0.8379 - val_accuracy: 0.7155\n",
            "Epoch 10/10\n",
            "206/206 [==============================] - 64s 313ms/step - loss: 0.8387 - accuracy: 0.6984 - val_loss: 0.8502 - val_accuracy: 0.6875\n"
          ]
        },
        {
          "output_type": "execute_result",
          "data": {
            "text/plain": [
              "<keras.callbacks.History at 0x7f39603d7910>"
            ]
          },
          "metadata": {},
          "execution_count": 17
        }
      ]
    },
    {
      "cell_type": "code",
      "source": [
        "pred=model.predict(test_data)"
      ],
      "metadata": {
        "id": "AoUQEgM1Wlq9"
      },
      "execution_count": null,
      "outputs": []
    },
    {
      "cell_type": "code",
      "source": [
        "pred[:5]"
      ],
      "metadata": {
        "id": "u3y0Dk8JXP__"
      },
      "execution_count": null,
      "outputs": []
    },
    {
      "cell_type": "code",
      "source": [
        "class_names=[]\n",
        "for i in train_data.class_indices:\n",
        "  class_names.append(i)\n",
        "print(class_names)"
      ],
      "metadata": {
        "colab": {
          "base_uri": "https://localhost:8080/"
        },
        "id": "8IziiYlyiPF7",
        "outputId": "f28b8d6a-b45d-4aa9-8fce-e3b341e2147c"
      },
      "execution_count": 18,
      "outputs": [
        {
          "output_type": "stream",
          "name": "stdout",
          "text": [
            "['Badminton', 'Cricket', 'Karate', 'Soccer', 'Swimming', 'Tennis', 'Wrestling']\n"
          ]
        }
      ]
    },
    {
      "cell_type": "code",
      "source": [
        "!wget https://upload.wikimedia.org/wikipedia/commons/6/69/Muralitharan_bowling_to_Adam_Gilchrist.jpg"
      ],
      "metadata": {
        "colab": {
          "base_uri": "https://localhost:8080/"
        },
        "id": "S9wuM2cULAj0",
        "outputId": "0e356ab2-9ed4-4325-f5f0-b7e785e180fd"
      },
      "execution_count": 19,
      "outputs": [
        {
          "output_type": "stream",
          "name": "stdout",
          "text": [
            "--2022-04-22 17:16:46--  https://upload.wikimedia.org/wikipedia/commons/6/69/Muralitharan_bowling_to_Adam_Gilchrist.jpg\n",
            "Resolving upload.wikimedia.org (upload.wikimedia.org)... 208.80.154.240, 2620:0:861:ed1a::2:b\n",
            "Connecting to upload.wikimedia.org (upload.wikimedia.org)|208.80.154.240|:443... connected.\n",
            "HTTP request sent, awaiting response... 200 OK\n",
            "Length: 628522 (614K) [image/jpeg]\n",
            "Saving to: ‘Muralitharan_bowling_to_Adam_Gilchrist.jpg’\n",
            "\n",
            "\r          Muralitha   0%[                    ]       0  --.-KB/s               \rMuralitharan_bowlin 100%[===================>] 613.79K  --.-KB/s    in 0.02s   \n",
            "\n",
            "2022-04-22 17:16:46 (31.5 MB/s) - ‘Muralitharan_bowling_to_Adam_Gilchrist.jpg’ saved [628522/628522]\n",
            "\n"
          ]
        }
      ]
    },
    {
      "cell_type": "code",
      "source": [
        "def load_and_prep_image(filename, img_shape=32):\n",
        "  img = tf.io.read_file(filename)\n",
        "  img = tf.image.decode_image(img, channels=3)\n",
        "  img = tf.image.resize(img, size = [img_shape, img_shape])\n",
        "  img = img/255.\n",
        "  return img\n",
        "def pred_and_plot(model, filename, class_names):\n",
        "  img = load_and_prep_image(filename)\n",
        "  pred = model.predict(tf.expand_dims(img, axis=0))\n",
        "  if len(pred[0]) > 1:\n",
        "    pred_class = class_names[pred.argmax()]\n",
        "  else:\n",
        "    pred_class = class_names[int(tf.round(pred)[0][0])]\n",
        "  plt.imshow(img)\n",
        "  plt.title(f\"Prediction: {pred_class}\")\n",
        "  plt.axis(False);"
      ],
      "metadata": {
        "id": "QpkJZ30jG4-A"
      },
      "execution_count": 20,
      "outputs": []
    },
    {
      "cell_type": "code",
      "source": [
        "pred_and_plot(model,'Muralitharan_bowling_to_Adam_Gilchrist.jpg',class_names)"
      ],
      "metadata": {
        "colab": {
          "base_uri": "https://localhost:8080/",
          "height": 264
        },
        "id": "tqXWlcP4nDyk",
        "outputId": "226ab438-4cd9-47d6-867e-b64d97649e81"
      },
      "execution_count": 21,
      "outputs": [
        {
          "output_type": "display_data",
          "data": {
            "text/plain": [
              "<Figure size 432x288 with 1 Axes>"
            ],
            "image/png": "[encoded data removed]"
          },
          "metadata": {
            "needs_background": "light"
          }
        }
      ]
    },
    {
      "cell_type": "code",
      "source": [
        ""
      ],
      "metadata": {
        "id": "H7x8WgyJgtJI"
      },
      "execution_count": null,
      "outputs": []
    }
  ]
}
